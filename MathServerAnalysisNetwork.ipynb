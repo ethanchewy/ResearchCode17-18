{
 "cells": [
  {
   "cell_type": "code",
   "execution_count": 2,
   "metadata": {
    "collapsed": false,
    "scrolled": true
   },
   "outputs": [],
   "source": [
    "%matplotlib inline\n",
    "import pandas as pd\n",
    "import numpy as np\n",
    "import matplotlib \n",
    "import matplotlib.pyplot as plt\n",
    "from matplotlib.pyplot import hist\n",
    "from urllib2 import Request, urlopen\n",
    "import json\n",
    "from datetime import date, datetime\n",
    "import matplotlib.dates as mdates\n",
    "import ast\n",
    "import os.path\n",
    "from glob import glob\n",
    "from datetime import datetime\n",
    "import pytz\n",
    "\n",
    "\n",
    "\n",
    "import  plotly.plotly  as py\n",
    "from plotly.graph_objs import *\n",
    "\n",
    "import networkx as nx\n",
    "import pandas as pd"
   ]
  },
  {
   "cell_type": "code",
   "execution_count": 3,
   "metadata": {
    "collapsed": true
   },
   "outputs": [],
   "source": [
    "#Data will not include channels that are restricted to only admins for posting privilidges\n",
    "data = []\n",
    "ChannelName = \"Mathematics2018\"\n",
    "#For now, just include all json files\n",
    "pattern = os.path.join('DiscordScrapes/*.json')\n",
    "for file_name in glob(pattern):\n",
    "    #print file_name\n",
    "    data.append(json.load(open(file_name)))\n",
    "#Combine data\n",
    "\n",
    "\n",
    "#For better idea about data, view: https://dht.chylex.com/build/viewer.html\n"
   ]
  },
  {
   "cell_type": "code",
   "execution_count": 4,
   "metadata": {
    "collapsed": true
   },
   "outputs": [],
   "source": [
    "#Reading data through\n",
    "\n",
    "#Message data\n",
    "messageData = []\n",
    "\n",
    "\n",
    "#UID associated with name\n",
    "\"\"\"\n",
    "      \"UID\": {\n",
    "        \"name\": Name\n",
    "      },\n",
    "\"\"\"\n",
    "userList = []\n",
    "\n",
    "#List of UIDs. Index if mentioned in 'u' in messages\n",
    "\"\"\"\n",
    "Ex:\n",
    "      \"384741477567430657\": {\n",
    "        \"u\": 13,\n",
    "        \"t\": 1511799916403,\n",
    "        \"m\": \"https://i.imgur.com/Jud77MH.png\",\n",
    "        \"e\": [\n",
    "          {\n",
    "            \"url\": \"https://imgur.com/Jud77MH\",\n",
    "            \"type\": \"image\"\n",
    "          }\n",
    "        ]\n",
    "      },\n",
    "\"\"\"\n",
    "userIndex = []\n",
    "\n",
    "\n",
    "#Channel Info\n",
    "\"\"\"\n",
    "      \"UID of Channel\": {\n",
    "        \"server\": _IndexNumber_,\n",
    "        \"name\": Name\n",
    "      }\n",
    "\"\"\"\n",
    "channelInfo = []"
   ]
  },
  {
   "cell_type": "code",
   "execution_count": 5,
   "metadata": {
    "collapsed": false
   },
   "outputs": [],
   "source": [
    "for item in data:\n",
    "    for majorkey, subdict in item.iteritems():\n",
    "        if majorkey == \"data\":\n",
    "            messageData.append(subdict)\n",
    "\n",
    "        if majorkey == \"meta\":\n",
    "            for majorkey2, subdict2 in subdict.iteritems():\n",
    "                if majorkey2 == \"users\":\n",
    "                    userList.append(subdict2)\n",
    "                if majorkey2 == \"userindex\":\n",
    "                    userIndex.append(subdict2)\n",
    "                if majorkey2 == \"servers\":\n",
    "                    channelInfo.append(subdict2)"
   ]
  },
  {
   "cell_type": "code",
   "execution_count": 6,
   "metadata": {
    "collapsed": false
   },
   "outputs": [
    {
     "data": {
      "text/plain": [
       "'messageData2 = json.dumps(messageData)[0]\\nuserList2 = json.dumps(userList)[0]\\nuserIndex2 = json.dumps(userIndex)[0]\\nchannelInfo2 = json.dumps(channelInfo)[0]\\n\\nmessageData3 = json.dumps(messageData)\\nuserList3 = json.dumps(userList)\\nuserIndex3 = json.dumps(userIndex)\\nchannelInfo3 = json.dumps(channelInfo)\\n\\nmessageData4 = ast.literal_eval(messageData3)\\nuserList4 = ast.literal_eval(userList3)\\nuserIndex4 = ast.literal_eval(userIndex3)\\nchannelInfo4 = ast.literal_eval(channelInfo3)'"
      ]
     },
     "execution_count": 6,
     "metadata": {},
     "output_type": "execute_result"
    }
   ],
   "source": [
    "#Timestamps are in epoch time\n",
    "timestamps = []\n",
    "message = []\n",
    "messageID = []\n",
    "author = []\n",
    "\n",
    "#author ID = index associated with userIndex\n",
    "authorID = []\n",
    "authorName = []\n",
    "\n",
    "#Not a priority RN but collect anyways\n",
    "imageData = []\n",
    "\n",
    "#Convert lists to dictionaries\n",
    "\"\"\"messageData2 = json.dumps(messageData)[0]\n",
    "userList2 = json.dumps(userList)[0]\n",
    "userIndex2 = json.dumps(userIndex)[0]\n",
    "channelInfo2 = json.dumps(channelInfo)[0]\n",
    "\n",
    "messageData3 = json.dumps(messageData)\n",
    "userList3 = json.dumps(userList)\n",
    "userIndex3 = json.dumps(userIndex)\n",
    "channelInfo3 = json.dumps(channelInfo)\n",
    "\n",
    "messageData4 = ast.literal_eval(messageData3)\n",
    "userList4 = ast.literal_eval(userList3)\n",
    "userIndex4 = ast.literal_eval(userIndex3)\n",
    "channelInfo4 = ast.literal_eval(channelInfo3)\"\"\""
   ]
  },
  {
   "cell_type": "code",
   "execution_count": 7,
   "metadata": {
    "collapsed": false
   },
   "outputs": [
    {
     "name": "stdout",
     "output_type": "stream",
     "text": [
      "Number of messages: 1408917\n",
      "1408917\n",
      "1408917\n"
     ]
    },
    {
     "data": {
      "text/plain": [
       "'for key, value in messageData.iteritems():\\n    for key2, value2 in messageData.iteritems():\\n        print key2'"
      ]
     },
     "execution_count": 7,
     "metadata": {},
     "output_type": "execute_result"
    }
   ],
   "source": [
    "#Analyze message data\n",
    "#print type(messageData4)\n",
    "\n",
    "#Get message, userIndex, timestamp, and image data\n",
    "for a in messageData:   \n",
    "    for b in a:\n",
    "\n",
    "        for c in a[b]:\n",
    "            temp = a[b][c]\n",
    "            #print type(a[b][c])\n",
    "            for key, value in temp.iteritems():\n",
    "                if key == \"m\": \n",
    "                    message.append(value)\n",
    "                if key == \"u\":\n",
    "                    authorID.append(value)\n",
    "                if key == \"t\":\n",
    "                    timestamps.append(value)\n",
    "                if key ==\"e\":\n",
    "                    imageData.append(value)\n",
    "            \"\"\"for d in a[b][c]:\n",
    "                print a[b][c]\n",
    "                #print d\n",
    "                #temp = map(str, d)\n",
    "                #print type(temp)\n",
    "                #print temp[2]\n",
    "                #if temp == 'm':\n",
    "\n",
    "                \"\"\"\n",
    "            \n",
    "\n",
    "        #authorID.append(userList)\n",
    "\n",
    "print \"Number of messages: \" + str(len(message))\n",
    "print len(authorID)\n",
    "print len(timestamps)\n",
    "\n",
    "\n",
    "            \n",
    "\"\"\"for key, value in messageData.iteritems():\n",
    "    for key2, value2 in messageData.iteritems():\n",
    "        print key2\"\"\""
   ]
  },
  {
   "cell_type": "code",
   "execution_count": 8,
   "metadata": {
    "collapsed": false
   },
   "outputs": [
    {
     "name": "stdout",
     "output_type": "stream",
     "text": [
      "13663\n",
      "4661\n",
      "1408917\n"
     ]
    },
    {
     "data": {
      "text/plain": [
       "'30300\\n30300\\n30300'"
      ]
     },
     "execution_count": 8,
     "metadata": {},
     "output_type": "execute_result"
    }
   ],
   "source": [
    "#Map user ID to real name\n",
    "\"\"\"print type(userList)\n",
    "print userList\"\"\"\n",
    "\"\"\"print userIndex\n",
    "print type(userIndex)\"\"\"\n",
    "userIndex2 = []\n",
    "authorName = []\n",
    "realIDs = []\n",
    "time_referential = []\n",
    "firstpost = []\n",
    "\n",
    "for i in userIndex:\n",
    "    userIndex2 = userIndex2 + i\n",
    "print len(userIndex2)\n",
    "userList2 =[]\n",
    "\n",
    "for i in userList:\n",
    "    userList2 = dict(userList2, **i)\n",
    "\n",
    "print len(userList2)\n",
    "\n",
    "\"\"\"#Match first_date of post with index of authorName\n",
    "for index in userIndex2:\n",
    "    timestamps2 = []\n",
    "    authorID2 = []\n",
    "    message2 = []\n",
    "    realID = index\n",
    "    #Search for first post:\n",
    "    minValue = 9999999999\n",
    "    for a in messageData:   \n",
    "        for b in a:\n",
    "            for c in a[b]:\n",
    "                temp = a[b][c]\n",
    "                #print type(a[b][c])\n",
    "                for key, value in temp.iteritems():\n",
    "                    if key == \"m\": \n",
    "                        message2.append(value)\n",
    "                    if key == \"u\":\n",
    "                        authorID2.append(value)\n",
    "                    if key == \"t\":\n",
    "                        timestamps2.append(value)\n",
    "                        if value < min:\n",
    "                            minValue = value\n",
    "    for \n",
    "    time_referential.append()\"\"\"\n",
    "\n",
    "#Find name associated with ID\n",
    "for index in authorID:\n",
    "    #print index\n",
    "    realID = userIndex2[index]\n",
    "    realIDs.append(realID)\n",
    "    #print realID\n",
    "    #print userList2[realID]\n",
    "    authorName.append(userList2[realID][\"name\"])\n",
    "    #firstpost.append(time_referential[index])\n",
    "    \n",
    "#Note there are repeats in authorName so that you can directly associate it with the correct message_____\n",
    "\n",
    "print len(authorName)\n",
    "\n",
    "\n",
    "\n",
    "\n",
    "#From first data set. Should be bigger when all json files are added together\n",
    "\"\"\"30300\n",
    "30300\n",
    "30300\"\"\""
   ]
  },
  {
   "cell_type": "code",
   "execution_count": 9,
   "metadata": {
    "collapsed": false
   },
   "outputs": [
    {
     "name": "stdout",
     "output_type": "stream",
     "text": [
      "Number of users: 4661\n"
     ]
    }
   ],
   "source": [
    "print \"Number of users: \" + str(len(userList2))"
   ]
  },
  {
   "cell_type": "code",
   "execution_count": 10,
   "metadata": {
    "collapsed": false
   },
   "outputs": [
    {
     "data": {
      "text/plain": [
       "'\\ns to build:\\nClustering for topics for various sections\\nFind way to find how groups of people communicate\\nWhich are the most active?\\nWhich are closest?\\nDo any leave the community?\\nInteractions with bots?\\nmathbot\\nAverage number of questions asked?\\nPer day?\\nPer week?\\nPer month?\\nSpecific hour of day?\\nMentions of using voice chat?\\nWhen do users become inactive?\\nAverage # of posts per user?\\nAsker vs. helper?\\n'"
      ]
     },
     "execution_count": 10,
     "metadata": {},
     "output_type": "execute_result"
    }
   ],
   "source": [
    "'''\n",
    "s to build:\n",
    "Clustering for topics for various sections\n",
    "Find way to find how groups of people communicate\n",
    "Which are the most active?\n",
    "Which are closest?\n",
    "Do any leave the community?\n",
    "Interactions with bots?\n",
    "mathbot\n",
    "Average number of questions asked?\n",
    "Per day?\n",
    "Per week?\n",
    "Per month?\n",
    "Specific hour of day?\n",
    "Mentions of using voice chat?\n",
    "When do users become inactive?\n",
    "Average # of posts per user?\n",
    "Asker vs. helper?\n",
    "'''"
   ]
  },
  {
   "cell_type": "code",
   "execution_count": 11,
   "metadata": {
    "collapsed": false
   },
   "outputs": [
    {
     "data": {
      "text/plain": [
       "'import unicodedata\\n#unicodedata.normalize(\\'NFKD\\', title).encode(\\'ascii\\',\\'ignore\\')\\ndf = pd.DataFrame({\\'message\\':message})\\n#df[\"message\"] = df[\"message\"].astype(str)\\ndf[\"message\"] = df[\"message\"].apply(lambda x: x.encode(\\'utf-8\\').strip())\\nprint df'"
      ]
     },
     "execution_count": 11,
     "metadata": {},
     "output_type": "execute_result"
    }
   ],
   "source": [
    "#Print Average message length\n",
    "\"\"\"import unicodedata\n",
    "#unicodedata.normalize('NFKD', title).encode('ascii','ignore')\n",
    "df = pd.DataFrame({'message':message})\n",
    "#df[\"message\"] = df[\"message\"].astype(str)\n",
    "df[\"message\"] = df[\"message\"].apply(lambda x: x.encode('utf-8').strip())\n",
    "print df\"\"\"\n",
    "\n",
    "# .decode(\"utf-8\")"
   ]
  },
  {
   "cell_type": "code",
   "execution_count": 47,
   "metadata": {
    "collapsed": false
   },
   "outputs": [
    {
     "name": "stdout",
     "output_type": "stream",
     "text": [
      "52994\n",
      "52994\n",
      "52994\n"
     ]
    }
   ],
   "source": [
    "#Network graph\n",
    "#https://github.com/lgallen/twitter-graph/blob/master/social_graph_plotly.ipynb\n",
    "\n",
    "#Filter messages first \n",
    "#userFromId to #userToId\n",
    "userFromId = []\n",
    "userToId = []\n",
    "timestamps2 = []\n",
    "\n",
    "#df = pd.DataFrame({'message':message, 'user_id': realIDs})\n",
    "\n",
    "#Get original data => convert to list\n",
    "#Accounts for multiple mentions\n",
    "df = pd.DataFrame({'message':message, 'user_id': realIDs, \"timestamps\": timestamps})\n",
    "\n",
    "messagesO = df['message'].tolist()\n",
    "realIDO = df['user_id'].tolist()\n",
    "timestampsO = df['timestamps'].tolist()\n",
    "\n",
    "for x, y, z in zip(messagesO, realIDO, timestampsO):\n",
    "    listW = x.split()\n",
    "    for word in listW:\n",
    "        if '@' in word:\n",
    "            userToId.append(word)\n",
    "            userFromId.append(y)\n",
    "            timestamps2.append(z)\n",
    "            \n",
    "print len(userToId)\n",
    "print len(userFromId)\n",
    "print len(timestamps2)\n",
    "            \n",
    "\n",
    "#NEED TO ACCOUNT FOR MULTIPLE MENTIONS\n",
    "\n",
    "#print df\n",
    "\n",
    "\n",
    "#Need to also include =>ROLES<=\n",
    "#Label roles\n",
    "#Go to viewer and look at correponding messages"
   ]
  },
  {
   "cell_type": "code",
   "execution_count": 30,
   "metadata": {
    "collapsed": false
   },
   "outputs": [],
   "source": [
    "#graphing time\n",
    "\n",
    "#Clean up data\n",
    "gb = pd.DataFrame({'userFromId':userFromId, 'userToId': userToId})\n",
    "gb['userToId'] = gb['userToId'].map(lambda x: x.lstrip('<@!').rstrip('>'))\n",
    "#print gb\n",
    "df = gb"
   ]
  },
  {
   "cell_type": "code",
   "execution_count": 14,
   "metadata": {
    "collapsed": false
   },
   "outputs": [],
   "source": [
    "#Graph time!\n",
    "G = nx.DiGraph()\n",
    "#G = nx.Graph()\n",
    "G.add_nodes_from(df['userFromId'])\n",
    "#G.add_edges_from(zip(df['userFromId'],df['userToId']))"
   ]
  },
  {
   "cell_type": "code",
   "execution_count": 15,
   "metadata": {
    "collapsed": true
   },
   "outputs": [],
   "source": [
    "temp = zip(df['userFromId'],df['userToId'])\n",
    "G.add_edges_from(temp)"
   ]
  },
  {
   "cell_type": "code",
   "execution_count": 16,
   "metadata": {
    "collapsed": false
   },
   "outputs": [
    {
     "name": "stdout",
     "output_type": "stream",
     "text": [
      "Name: \n",
      "Type: DiGraph\n",
      "Number of nodes: 4724\n",
      "Number of edges: 23579\n",
      "Average in degree:   4.9913\n",
      "Average out degree:   4.9913\n"
     ]
    }
   ],
   "source": [
    "print(nx.info(G))"
   ]
  },
  {
   "cell_type": "code",
   "execution_count": 17,
   "metadata": {
    "collapsed": false
   },
   "outputs": [],
   "source": [
    "pos=nx.spring_layout(G)"
   ]
  },
  {
   "cell_type": "code",
   "execution_count": 18,
   "metadata": {
    "collapsed": false
   },
   "outputs": [
    {
     "data": {
      "text/plain": [
       "\"\\n\\ndfLookupdfLookup..headhead()()\\n forfor  userIduserId  inin  dfLookupdfLookup[['userFromId''userFrom ]:\\n    temp = dfLookup['userFromName'][df['userFromId']==userId]\\n    G.node[userId]['userName'] = temp.values[0]\\n\""
      ]
     },
     "execution_count": 18,
     "metadata": {},
     "output_type": "execute_result"
    }
   ],
   "source": [
    "# Give nodes their Usernames\n",
    "#dfLookup = df[['userFromName','userFromId']].drop_duplicates()\n",
    "\n",
    "'''\n",
    "\n",
    "dfLookupdfLookup..headhead()()\n",
    " forfor  userIduserId  inin  dfLookupdfLookup[['userFromId''userFrom ]:\n",
    "    temp = dfLookup['userFromName'][df['userFromId']==userId]\n",
    "    G.node[userId]['userName'] = temp.values[0]\n",
    "'''\n",
    "#nx.draw(G)\n",
    "#nx.draw(G, pos=nx.spring_layout(G,k=.5),node_color='c',edge_color='k')"
   ]
  },
  {
   "cell_type": "code",
   "execution_count": 19,
   "metadata": {
    "collapsed": false
   },
   "outputs": [
    {
     "data": {
      "text/plain": [
       "<matplotlib.figure.Figure at 0x7f6c3f387910>"
      ]
     },
     "metadata": {},
     "output_type": "display_data"
    }
   ],
   "source": [
    "plt.savefig(\"MathematicsNetworkGraph.png\")"
   ]
  },
  {
   "cell_type": "code",
   "execution_count": 36,
   "metadata": {
    "collapsed": false
   },
   "outputs": [],
   "source": [
    "#save to file\n",
    "gb = pd.DataFrame({'Source':userFromId, 'Target': userToId})\n",
    "gb['Target'] = gb['Target'].map(lambda x: x.lstrip('<@!').rstrip('>'))\n",
    "gb.to_csv('MathUserNetwork.csv', sep='\\t', encoding='utf-8', mode = 'w', index=False)"
   ]
  },
  {
   "cell_type": "code",
   "execution_count": 20,
   "metadata": {
    "collapsed": true
   },
   "outputs": [],
   "source": [
    "#Label groups afterwards, Note that users can have the same name\n"
   ]
  },
  {
   "cell_type": "code",
   "execution_count": null,
   "metadata": {
    "collapsed": true
   },
   "outputs": [],
   "source": [
    "#NOW USING GEPHI"
   ]
  },
  {
   "cell_type": "code",
   "execution_count": 57,
   "metadata": {
    "collapsed": false,
    "scrolled": true
   },
   "outputs": [
    {
     "name": "stdout",
     "output_type": "stream",
     "text": [
      "[u'Ann' u'183668144404037632']\n",
      "[u'woog' u'102871169362825216']\n",
      "[u'Boi.iul || \\u30dc\\u30a4' u'212330750270373891']\n",
      "                                                   message     timestamps  \\\n",
      "66902                               <@&286206848099549185>  1516475358175   \n",
      "67548    <@&286206848099549185> <@&268886789983436800> ...  1518666520172   \n",
      "69381            <@&286206848099549185> I gotta sleep soon  1501520149214   \n",
      "69556                               <@&286206848099549185>  1519914885848   \n",
      "70313    <@&286206848099549185> do I just not understan...  1516927737442   \n",
      "72370            Going to call <@&286206848099549185> on ^  1506081138306   \n",
      "75016                               <@&286206848099549185>  1512086726998   \n",
      "75594                               <@&286206848099549185>  1520279102441   \n",
      "76867                               <@&286206848099549185>  1517022986548   \n",
      "77111                               <@&286206848099549185>  1513812017749   \n",
      "77786                               <@&286206848099549185>  1520376496260   \n",
      "78324    https://gyazo.com/1b13b7c0ecbcc37e2d6b493f6258...  1520275418367   \n",
      "79220                               <@&286206848099549185>  1515703523124   \n",
      "80028                               <@&286206848099549185>  1517097733372   \n",
      "80493    <@&286206848099549185> How is it best to solve...  1515080501050   \n",
      "80710              Is that legit <@&286206848099549185> ?!  1518310253591   \n",
      "81195                               <@&286206848099549185>  1518656921650   \n",
      "81797                               <@&286206848099549185>  1515660129160   \n",
      "82035                               <@&286206848099549185>  1519611329863   \n",
      "82038                               <@&286206848099549185>  1515961680306   \n",
      "82200                               <@&286206848099549185>  1517069471011   \n",
      "82308                               <@&286206848099549185>  1519696002888   \n",
      "82517                   Still stuck <@&286206848099549185>  1518560275823   \n",
      "82637                             <@&286206848099549185> ?  1518584337590   \n",
      "82685                               <@&286206848099549185>  1509670686729   \n",
      "82898                               <@&286206848099549185>  1516965417462   \n",
      "83680                               <@&286206848099549185>  1518962749659   \n",
      "83699                               <@&286206848099549185>  1519640225539   \n",
      "83871                               <@&286206848099549185>  1512404914679   \n",
      "83992                           <@&286206848099549185> pls  1516966807948   \n",
      "...                                                    ...            ...   \n",
      "1382280                             <@&286206848099549185>  1519515127758   \n",
      "1382750                             <@&286206848099549185>  1516478535325   \n",
      "1384430                      <@&286206848099549185> maybe?  1517161731757   \n",
      "1384532                     oh okay <@&286206848099549185>  1513742232872   \n",
      "1386713                             <@&286206848099549185>  1517474164183   \n",
      "1387173                             <@&286206848099549185>  1517444077129   \n",
      "1387654                             <@&286206848099549185>  1515624290805   \n",
      "1389759                         <@&286206848099549185> pls  1503596558128   \n",
      "1389804                             <@&286206848099549185>  1511707435493   \n",
      "1391079                       pls <@&286206848099549185> 😦  1519272762317   \n",
      "1392445                             <@&286206848099549185>  1519167919334   \n",
      "1396984                             <@&286206848099549185>  1515536300284   \n",
      "1397415                             <@&286206848099549185>  1514476302739   \n",
      "1397843                             <@&286206848099549185>  1507456045044   \n",
      "1398366                             <@&286206848099549185>  1516116744375   \n",
      "1399436                             <@&286206848099549185>  1505321703969   \n",
      "1399530                             <@&286206848099549185>  1520333758533   \n",
      "1400848                             <@&286206848099549185>  1516118761489   \n",
      "1401340                             <@&286206848099549185>  1519655151030   \n",
      "1401439                             <@&286206848099549185>  1517457225575   \n",
      "1402644                             <@&286206848099549185>  1507252326912   \n",
      "1404214                             <@&286206848099549185>  1507848725831   \n",
      "1404255                             <@&286206848099549185>  1505322863487   \n",
      "1406183                             <@&286206848099549185>  1518564589894   \n",
      "1406730                             <@&286206848099549185>  1517160758810   \n",
      "1407142  <@&286206848099549185>  If I have a point $$A ...  1518141957896   \n",
      "1407679  <@&286206848099549185> by using the Pythagorea...  1503516591978   \n",
      "1407817                             <@&286206848099549185>  1517887895228   \n",
      "1407916                             <@&286206848099549185>  1515959577369   \n",
      "1408627                             <@&286206848099549185>  1516508159007   \n",
      "\n",
      "                    user_id  \n",
      "66902    280467978779230208  \n",
      "67548    215252169283076096  \n",
      "69381    188725806065909760  \n",
      "69556    255819136750321677  \n",
      "70313    389197149616865280  \n",
      "72370    331421466459635715  \n",
      "75016    321396904694906880  \n",
      "75594    389197149616865280  \n",
      "76867    389197149616865280  \n",
      "77111    115873467873755136  \n",
      "77786    389197149616865280  \n",
      "78324    389197149616865280  \n",
      "79220    190116925358080000  \n",
      "80028    182411730435964928  \n",
      "80493    194826177389527040  \n",
      "80710    368166167824695305  \n",
      "81195    292411188275314689  \n",
      "81797    349890336572571648  \n",
      "82035    219663440011198464  \n",
      "82038    193941636382851073  \n",
      "82200    172405982473879553  \n",
      "82308    341958485724102668  \n",
      "82517     80462478831517696  \n",
      "82637    245210861243727872  \n",
      "82685    220061601464582147  \n",
      "82898    365642825347497984  \n",
      "83680    227106803475808256  \n",
      "83699    292316830259740672  \n",
      "83871    289537986591457287  \n",
      "83992    365642825347497984  \n",
      "...                     ...  \n",
      "1382280  189123053563805696  \n",
      "1382750  186188360774189056  \n",
      "1384430  249808259760914433  \n",
      "1384532  214385744461037568  \n",
      "1386713  369676072427585537  \n",
      "1387173  394598148909039616  \n",
      "1387654  214385744461037568  \n",
      "1389759  348202509392805909  \n",
      "1389804  128750074451722241  \n",
      "1391079  121619666215895042  \n",
      "1392445  341958485724102668  \n",
      "1396984  214385744461037568  \n",
      "1397415  285354719180750848  \n",
      "1397843  220302625315225601  \n",
      "1398366  178733880189124618  \n",
      "1399436  256431616581173248  \n",
      "1399530  349890336572571648  \n",
      "1400848  178733880189124618  \n",
      "1401340  299281179344109569  \n",
      "1401439  394598148909039616  \n",
      "1402644  263304354369503234  \n",
      "1404214  407135783678640128  \n",
      "1404255  256431616581173248  \n",
      "1406183  202873312001523713  \n",
      "1406730  189123053563805696  \n",
      "1407142  189123053563805696  \n",
      "1407679  256431616581173248  \n",
      "1407817  214385744461037568  \n",
      "1407916  214385744461037568  \n",
      "1408627  369676072427585537  \n",
      "\n",
      "[1348 rows x 3 columns]\n",
      "[u'\\u1160\\u1160' u'205053980923920385']\n",
      "[u'Simple_Art' u'237699741977149450']\n",
      "[u'heteroing' u'124347516878585858']\n",
      "[u'SEV' u'216270512945364992']\n",
      "[u'Spec' u'404365629215473676']\n",
      "[u'creamy shits' u'210924359240384513']\n",
      "[u'cheeze' u'312612282213597197']\n",
      "[u'dex' u'214834380428804099']\n",
      "[u'nonexistent' u'167009558370320384']\n",
      "[u'NewTest' u'382037005066043393']\n",
      "[u'Exalted Toast' u'197464480903331850']\n",
      "[u'Alisher' u'255819136750321677']\n",
      "[u'june' u'318078631492452352']\n",
      "[u'Obyeag' u'184053870526201860']\n",
      "[u'Orangalo' u'121619666215895042']\n",
      "[u'eatenjelly' u'140849857270120448']\n",
      "[u'undernet' u'291324048472932353']\n",
      "[u'PackSciences' u'85084494473736192']\n"
     ]
    }
   ],
   "source": [
    "#Lookup individual groups/users\n",
    "#Note that unique IDs from above removes the repeats => look at userindex2 list which only finds unique users.\n",
    "\n",
    "gb2 = pd.DataFrame({'realID':realIDs, 'authorName': authorName})\n",
    "#print gb2\n",
    "\n",
    "listofNodes = [\"183668144404037632\", \"102871169362825216\", \"212330750270373891\", \"&286206848099549185\", \n",
    "              \"205053980923920385\", \"237699741977149450\", \"124347516878585858\", \"216270512945364992\",\"404365629215473676\",\n",
    "               \"210924359240384513\",\n",
    "\"312612282213597197\",\n",
    "\"214834380428804099\",\n",
    "\"167009558370320384\",\n",
    "\"382037005066043393\",\n",
    "\"197464480903331850\",\n",
    "\"255819136750321677\",\n",
    "\"318078631492452352\",\n",
    "\"184053870526201860\",\n",
    "\"121619666215895042\",\n",
    "\"140849857270120448\",\n",
    "\"291324048472932353\",\n",
    "\"85084494473736192\"]\n",
    "\n",
    "#or I could just import csv from graph\n",
    "\n",
    "#Find\n",
    "for i in listofNodes:\n",
    "    try:\n",
    "        print gb2[gb2['realID'].str.match(i)].values[0]\n",
    "    except IndexError:\n",
    "        print df[df['message'].str.contains(i)]\n",
    "    \n",
    "\n"
   ]
  },
  {
   "cell_type": "code",
   "execution_count": 61,
   "metadata": {
    "collapsed": false
   },
   "outputs": [
    {
     "name": "stdout",
     "output_type": "stream",
     "text": [
      "[u'Shadowslice' u'321396904694906880']\n",
      "[u'Tatsumaki' u'172002275412279296']\n",
      "[u'MathBot' u'134073775925886976']\n"
     ]
    }
   ],
   "source": [
    "#Find tatsumaki id\n",
    "#Tatsumaki\n",
    "#highest out degree\n",
    "print gb2[gb2['realID'].str.match(\"321396904694906880\")].values[0]\n",
    "\n",
    "#just bots\n",
    "print gb2[gb2['authorName'].str.match(\"Tatsumaki\")].values[0] \n",
    "print gb2[gb2['authorName'].str.match(\"MathBot\")].values[0] "
   ]
  }
 ],
 "metadata": {
  "kernelspec": {
   "display_name": "Python 2",
   "language": "python",
   "name": "python2"
  },
  "language_info": {
   "codemirror_mode": {
    "name": "ipython",
    "version": 2
   },
   "file_extension": ".py",
   "mimetype": "text/x-python",
   "name": "python",
   "nbconvert_exporter": "python",
   "pygments_lexer": "ipython2",
   "version": "2.7.12"
  }
 },
 "nbformat": 4,
 "nbformat_minor": 2
}
