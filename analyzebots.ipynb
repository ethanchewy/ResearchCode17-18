{
 "cells": [
  {
   "cell_type": "code",
   "execution_count": 93,
   "metadata": {
    "collapsed": true
   },
   "outputs": [],
   "source": [
    "'''\n",
    "This script scrapes the top 6 discord public lists \n",
    "and counts the total number of unique discord channels\n",
    "'''\n",
    "\n",
    "from selenium import webdriver\n",
    "from selenium.webdriver.common.keys import Keys\n",
    "from selenium.webdriver.common.by import By\n",
    "from bs4 import BeautifulSoup\n",
    "import time\n",
    "from collections import OrderedDict\n",
    "import pandas as pd\n",
    "import string\n",
    "from random import randint\n",
    "import locale\n",
    "from locale import atof\n",
    "\n",
    "import matplotlib.pyplot as plt\n",
    "import numpy as np\n"
   ]
  },
  {
   "cell_type": "code",
   "execution_count": 2,
   "metadata": {
    "collapsed": true
   },
   "outputs": [],
   "source": [
    "# The path works because I have moved the \"chromedriver\" file in /usr/local/bin\n",
    "browser = webdriver.Chrome(executable_path='/usr/bin/chromedriver')\n",
    "#Site: https://discordlist.me/\n",
    "browser.get('https://www.carbonitex.net/discord/bots')\n"
   ]
  },
  {
   "cell_type": "code",
   "execution_count": 19,
   "metadata": {
    "collapsed": true
   },
   "outputs": [],
   "source": []
  },
  {
   "cell_type": "code",
   "execution_count": 41,
   "metadata": {
    "collapsed": false
   },
   "outputs": [],
   "source": [
    "'''\n",
    "Get number of servers for which bots report the number of servers for.\n",
    "'''\n",
    "#Description listed describing the server in the list (includes html)\n",
    "descriptions = []\n",
    "#Name of Discord bot\n",
    "botNames = []\n",
    "#Number of Discord servers associated with bot\n",
    "serverNumber = []\n",
    "\n",
    "html = browser.page_source\n",
    "\n",
    "soup = BeautifulSoup(html, 'html.parser')\n",
    "starting_point = soup.find_all('div', {'id' : 'content'})\n",
    "starting_point = starting_point[0]\n",
    "bots = starting_point.find_all('div', {'class' : 'bot-card'})\n",
    "\n",
    "\n",
    "\"\"\"\n",
    "descriptionsA = starting_point.find_all('div', {'class' : 'tab-content'})\n",
    "botNamesA = starting_point.find_all('div', {'class' : 'box-header'})\n",
    "serverNumberA = starting_point.find_all('span', {'class' : 'botservercount'})\n",
    "\"\"\"\n",
    "\"\"\"\n",
    "for a in descriptionsA:\n",
    "    descriptions.append(a)\n",
    "\n",
    "for b in botNamesA:\n",
    "    innerText = b.h2.text\n",
    "    botNames.append(innerText)\n",
    "\n",
    "for c in serverNumberA:\n",
    "    innerNumber = c.text\n",
    "    innerNumber = innerNumber.replace('Servers: ', '')\n",
    "    serverNumber.append(innerNumber)\n",
    "\"\"\"\n",
    "\n",
    "for a in bots:\n",
    "    descriptionA = a.find('div', {'class' : 'tab-content'})\n",
    "    botNameA = a.find('div', {'class' : 'box-header'})\n",
    "    serverNumberA = a.find('span', {'class' : 'botservercount'})\n",
    "\n",
    "    if serverNumberA:\n",
    "        descriptions.append(descriptionA)\n",
    "        \n",
    "        innerText = botNameA.h2.text\n",
    "        botNames.append(innerText)\n",
    "        \n",
    "        innerNumber = serverNumberA.text\n",
    "        innerNumber = innerNumber.replace('Servers: ', '')\n",
    "        serverNumber.append(innerNumber)\n",
    "        \n",
    "\n",
    "\n",
    "\n"
   ]
  },
  {
   "cell_type": "code",
   "execution_count": 22,
   "metadata": {
    "collapsed": false
   },
   "outputs": [
    {
     "name": "stdout",
     "output_type": "stream",
     "text": [
      "151\n",
      "151\n",
      "65\n"
     ]
    }
   ],
   "source": [
    "print len(descriptionsA)\n",
    "print len(botNamesA)\n",
    "print len(serverNumber)"
   ]
  },
  {
   "cell_type": "code",
   "execution_count": 43,
   "metadata": {
    "collapsed": false
   },
   "outputs": [
    {
     "name": "stdout",
     "output_type": "stream",
     "text": [
      "65\n",
      "65\n",
      "65\n"
     ]
    }
   ],
   "source": [
    "print len(descriptions)\n",
    "print len(botNames)\n",
    "print len(serverNumber)"
   ]
  },
  {
   "cell_type": "code",
   "execution_count": 44,
   "metadata": {
    "collapsed": true
   },
   "outputs": [],
   "source": [
    "#Save file\n",
    "df = pd.DataFrame(\n",
    "    {'Name': botNames,\n",
    "     'Description': descriptions,\n",
    "     'Count': serverNumber\n",
    "    })\n",
    "\n",
    "timestr = time.strftime(\"%Y%m%d-%H%M%S\")\n",
    "filename = \"DiscordBots\" + timestr +\".csv\"\n",
    "\n",
    "df.to_csv(filename, sep='\\t', encoding='utf-8')"
   ]
  },
  {
   "cell_type": "code",
   "execution_count": null,
   "metadata": {
    "collapsed": true
   },
   "outputs": [],
   "source": [
    "#Load file\n",
    "df = pd.read_csv(\"ENTERNAMEHERE.csv\", sep='\\t', encoding='utf-8')\n",
    "print df.shape"
   ]
  },
  {
   "cell_type": "code",
   "execution_count": 69,
   "metadata": {
    "collapsed": false
   },
   "outputs": [
    {
     "name": "stdout",
     "output_type": "stream",
     "text": [
      "0       62275.0\n",
      "1       21418.0\n",
      "2       17618.0\n",
      "3       49222.0\n",
      "4        5165.0\n",
      "5       29813.0\n",
      "6        7563.0\n",
      "7       58761.0\n",
      "8        9598.0\n",
      "9        9689.0\n",
      "10      45007.0\n",
      "11       4102.0\n",
      "12      19435.0\n",
      "13       4944.0\n",
      "14       2322.0\n",
      "15       1174.0\n",
      "16      33578.0\n",
      "17      72532.0\n",
      "18      15049.0\n",
      "19       2289.0\n",
      "20     190410.0\n",
      "21       6379.0\n",
      "22     258214.0\n",
      "23       9324.0\n",
      "24      19453.0\n",
      "25     192018.0\n",
      "26      34042.0\n",
      "27       2512.0\n",
      "28       9307.0\n",
      "29      17657.0\n",
      "        ...    \n",
      "35          1.0\n",
      "36      44814.0\n",
      "37    1273357.0\n",
      "38      95386.0\n",
      "39      57311.0\n",
      "40     817535.0\n",
      "41      31866.0\n",
      "42       3039.0\n",
      "43     348874.0\n",
      "44     839883.0\n",
      "45     195951.0\n",
      "46       9174.0\n",
      "47       8058.0\n",
      "48      23136.0\n",
      "49      80587.0\n",
      "50     485464.0\n",
      "51        188.0\n",
      "52       6934.0\n",
      "53       8500.0\n",
      "54      44547.0\n",
      "55       6409.0\n",
      "56     108520.0\n",
      "57       5597.0\n",
      "58      49772.0\n",
      "59     133270.0\n",
      "60      17764.0\n",
      "61      11043.0\n",
      "62      26402.0\n",
      "63     173266.0\n",
      "64       4499.0\n",
      "Name: Count, dtype: float64\n"
     ]
    }
   ],
   "source": [
    "print df"
   ]
  },
  {
   "cell_type": "code",
   "execution_count": 68,
   "metadata": {
    "collapsed": false
   },
   "outputs": [
    {
     "data": {
      "image/png": "[encoded data removed]",
      "text/plain": [
       "<matplotlib.figure.Figure at 0x7f0e152cdad0>"
      ]
     },
     "metadata": {},
     "output_type": "display_data"
    }
   ],
   "source": [
    "#distrbutiong\n",
    "df = pd.DataFrame(\n",
    "    {'Name': botNames,\n",
    "     'Description': descriptions,\n",
    "     'Count': serverNumber\n",
    "    })\n",
    "#Just get number of servers with bots\n",
    "#Each bot has a number of \n",
    "\n",
    "df = df['Count'].str.replace(',', '')\n",
    "#print gb\n",
    "df=df.astype(float)\n",
    "graph = df.plot(kind='kde',y=\"Count\")\n",
    "plt.tight_layout()\n",
    "plt.show()\n",
    "botsGraph = graph.get_figure()\n",
    "botsGraph.savefig('CategoriesDiscordServers.png')"
   ]
  },
  {
   "cell_type": "code",
   "execution_count": 152,
   "metadata": {
    "collapsed": false
   },
   "outputs": [
    {
     "data": {
      "image/png": "[encoded data removed]",
      "text/plain": [
       "<matplotlib.figure.Figure at 0x7f0e19a88a90>"
      ]
     },
     "metadata": {},
     "output_type": "display_data"
    }
   ],
   "source": [
    "df = pd.DataFrame(\n",
    "    {'Name': botNames,\n",
    "     'Description': descriptions,\n",
    "     'Count': serverNumber\n",
    "    })\n",
    "\n",
    "df['Count'] = df['Count'].str.replace(',', '').astype(float)\n",
    "\n",
    "\n",
    "\"\"\"fig, ax = plt.subplots()\n",
    "#df['Count'].hist()\n",
    "plt.tight_layout()\n",
    "\n",
    "ax.boxplot(vert=False)\n",
    "ax.set_xscale(\"log\")\n",
    "plt.show()\"\"\"\n",
    "\"\"\"series = pd.Series(np.random.normal(size=2000))\n",
    "fig, ax = plt.subplots()\n",
    "series.hist(ax=ax, bins=100, bottom=0.1)\n",
    "ax.set_yscale('log')\n",
    "plt.show()\"\"\"\n",
    "#plt.xscale('log', basex=1.1)\n",
    "#graph = df.hist() \n",
    "graph = df.hist(bins=100) \n",
    "#plt.xscale('log', basex=2)\n",
    "\n",
    "for ax in graph.flatten():\n",
    "    ax.set_ylabel(\"Frequency\")\n",
    "    ax.set_xlabel(\"Bot's Number of Servers\")\n",
    "    \n",
    "plt.title('Histogram of Bots in Servers')\n",
    "plt.tight_layout()\n",
    "plt.show()\n",
    "botsGraph = ax.get_figure()\n",
    "botsGraph.savefig('botsHistogram.png')\n",
    "#botsGraph.savefig('botsHistogramLogBase2.png')"
   ]
  },
  {
   "cell_type": "code",
   "execution_count": 164,
   "metadata": {
    "collapsed": false
   },
   "outputs": [
    {
     "name": "stdout",
     "output_type": "stream",
     "text": [
      "Count    102106.538462\n",
      "dtype: float64\n",
      "35          1.0\n",
      "51        188.0\n",
      "15       1174.0\n",
      "30       1252.0\n",
      "19       2289.0\n",
      "14       2322.0\n",
      "27       2512.0\n",
      "42       3039.0\n",
      "11       4102.0\n",
      "64       4499.0\n",
      "13       4944.0\n",
      "4        5165.0\n",
      "57       5597.0\n",
      "21       6379.0\n",
      "55       6409.0\n",
      "52       6934.0\n",
      "6        7563.0\n",
      "47       8058.0\n",
      "53       8500.0\n",
      "46       9174.0\n",
      "28       9307.0\n",
      "23       9324.0\n",
      "8        9598.0\n",
      "9        9689.0\n",
      "61      11043.0\n",
      "18      15049.0\n",
      "2       17618.0\n",
      "29      17657.0\n",
      "60      17764.0\n",
      "12      19435.0\n",
      "        ...    \n",
      "32      29316.0\n",
      "5       29813.0\n",
      "41      31866.0\n",
      "16      33578.0\n",
      "26      34042.0\n",
      "54      44547.0\n",
      "36      44814.0\n",
      "10      45007.0\n",
      "3       49222.0\n",
      "58      49772.0\n",
      "39      57311.0\n",
      "7       58761.0\n",
      "0       62275.0\n",
      "17      72532.0\n",
      "49      80587.0\n",
      "38      95386.0\n",
      "56     108520.0\n",
      "33     122560.0\n",
      "59     133270.0\n",
      "63     173266.0\n",
      "20     190410.0\n",
      "25     192018.0\n",
      "45     195951.0\n",
      "22     258214.0\n",
      "34     340934.0\n",
      "43     348874.0\n",
      "50     485464.0\n",
      "40     817535.0\n",
      "44     839883.0\n",
      "37    1273357.0\n",
      "Name: Count, dtype: float64\n"
     ]
    },
    {
     "name": "stderr",
     "output_type": "stream",
     "text": [
      "/home/ethanc/.local/lib/python2.7/site-packages/ipykernel/__main__.py:4: FutureWarning: sort is deprecated, use sort_values(inplace=True) for INPLACE sorting\n"
     ]
    }
   ],
   "source": [
    "#Basic statistics\n",
    "print df.mean()\n",
    "gb = df[\"Count\"].copy()\n",
    "gb.sort()\n",
    "print gb"
   ]
  }
 ],
 "metadata": {
  "kernelspec": {
   "display_name": "Python 2",
   "language": "python",
   "name": "python2"
  },
  "language_info": {
   "codemirror_mode": {
    "name": "ipython",
    "version": 2
   },
   "file_extension": ".py",
   "mimetype": "text/x-python",
   "name": "python",
   "nbconvert_exporter": "python",
   "pygments_lexer": "ipython2",
   "version": "2.7.12"
  }
 },
 "nbformat": 4,
 "nbformat_minor": 2
}
